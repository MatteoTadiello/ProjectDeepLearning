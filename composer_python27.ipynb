{
  "nbformat": 4,
  "nbformat_minor": 0,
  "metadata": {
    "colab": {
      "name": "composer_python27.ipynb",
      "version": "0.3.2",
      "provenance": [],
      "collapsed_sections": [],
      "toc_visible": true
    },
    "language_info": {
      "codemirror_mode": {
        "name": "ipython",
        "version": 2
      },
      "file_extension": ".py",
      "mimetype": "text/x-python",
      "name": "python",
      "nbconvert_exporter": "python",
      "pygments_lexer": "ipython2",
      "version": "2.7.12"
    },
    "kernelspec": {
      "display_name": "Python 2",
      "language": "python",
      "name": "python2"
    },
    "accelerator": "GPU"
  },
  "cells": [
    {
      "cell_type": "markdown",
      "metadata": {
        "id": "QuWtxND-mOq6",
        "colab_type": "text"
      },
      "source": [
        "# Deep Network Composer\n"
      ]
    },
    {
      "cell_type": "code",
      "metadata": {
        "colab_type": "code",
        "id": "HewwFQYhMHcT",
        "colab": {}
      },
      "source": [
        "#Connect and mount the drive folder that contains the train dataset and the output folder\n",
        "from google.colab import drive\n",
        "\n",
        "HOMEBASE = \"gdrive/My\\ Drive/Colab\\ Notebooks/Composer\"\n",
        "drive.mount('/content/gdrive')"
      ],
      "execution_count": 0,
      "outputs": []
    },
    {
      "cell_type": "code",
      "metadata": {
        "colab_type": "code",
        "id": "pw1paKpIKngt",
        "colab": {}
      },
      "source": [
        "# Clone the composer code into the machine\n",
        "!git clone https://github.com/MatteoTadiello/ProjectDeepLearning.git\n",
        "!ls ProjectDeepLearning"
      ],
      "execution_count": 0,
      "outputs": []
    },
    {
      "cell_type": "code",
      "metadata": {
        "id": "Y7eY7dP1nXFC",
        "colab_type": "code",
        "colab": {}
      },
      "source": [
        "#ALTERNATIVE: clone from fix_evaluation branch\n",
        "!git clone --single-branch --branch fix_evaluation https://github.com/MatteoTadiello/ProjectDeepLearning\n"
      ],
      "execution_count": 0,
      "outputs": []
    },
    {
      "cell_type": "markdown",
      "metadata": {
        "id": "o2mQ_HgomOrL",
        "colab_type": "text"
      },
      "source": [
        "### Load_songs.py\n",
        "This step calls a script that parses the music files(midi) in the specified folder and produces 2 compact npy files that are saved in the same folder.\n",
        "The parameter is the folder where to look for the midis and to save the output files."
      ]
    },
    {
      "cell_type": "code",
      "metadata": {
        "colab_type": "code",
        "id": "yxNx1fPcNLe2",
        "scrolled": true,
        "colab": {}
      },
      "source": [
        "# Preprocess the midi files and produce compact files for the training\n",
        "# !!!-This step is not necessary if the train dataset has not changed-!!!\n",
        "!python2.7 ProjectDeepLearning/composer/load_songs.py gdrive/My\\ Drive/Colab\\ Notebooks/Composer/"
      ],
      "execution_count": 0,
      "outputs": []
    },
    {
      "cell_type": "markdown",
      "metadata": {
        "id": "Fu205DcymOrQ",
        "colab_type": "text"
      },
      "source": [
        "### Training\n",
        "The script called parses the files produced in the previous steps and trains the autoencoder network."
      ]
    },
    {
      "cell_type": "code",
      "metadata": {
        "colab_type": "code",
        "id": "pFupWCioN73D",
        "colab": {}
      },
      "source": [
        "# 1000 Epochs\n",
        "!python2.7 ProjectDeepLearning/composer/train1000e.py gdrive/My\\ Drive/Colab\\ Notebooks/Composer/\n"
      ],
      "execution_count": 0,
      "outputs": []
    },
    {
      "cell_type": "markdown",
      "metadata": {
        "id": "eFTSp52AmXeX",
        "colab_type": "text"
      },
      "source": [
        "### Generation\n",
        "\n"
      ]
    },
    {
      "cell_type": "code",
      "metadata": {
        "id": "Nj77K_1Pmd5w",
        "colab_type": "code",
        "colab": {}
      },
      "source": [
        "#Generate 100 tracks\n",
        "!python2.7 ProjectDeepLearning/composer/generate_random_midi.py gdrive/My\\ Drive/Colab\\ Notebooks/Composer/ 100"
      ],
      "execution_count": 0,
      "outputs": []
    }
  ]
}