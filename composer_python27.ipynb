{
  "nbformat": 4,
  "nbformat_minor": 0,
  "metadata": {
    "colab": {
      "name": "composer_python27.ipynb",
      "version": "0.3.2",
      "provenance": [],
      "collapsed_sections": [],
      "toc_visible": true,
      "include_colab_link": true
    },
    "kernelspec": {
      "name": "python2",
      "display_name": "Python 2"
    },
    "accelerator": "GPU"
  },
  "cells": [
    {
      "cell_type": "markdown",
      "metadata": {
        "id": "view-in-github",
        "colab_type": "text"
      },
      "source": [
        "<a href=\"https://colab.research.google.com/github/MatteoTadiello/ProjectDeepLearning/blob/master/composer_python27.ipynb\" target=\"_parent\"><img src=\"https://colab.research.google.com/assets/colab-badge.svg\" alt=\"Open In Colab\"/></a>"
      ]
    },
    {
      "cell_type": "code",
      "metadata": {
        "colab_type": "code",
        "id": "HewwFQYhMHcT",
        "outputId": "73eac4c2-2ce2-41a9-f3bb-f29a5c74b4a7",
        "colab": {
          "base_uri": "https://localhost:8080/",
          "height": 123
        }
      },
      "source": [
        "from google.colab import drive\n",
        "\n",
        "HOMEBASE = \"gdrive/My\\ Drive/Colab\\ Notebooks/Composer\"\n",
        "drive.mount('/content/gdrive')"
      ],
      "execution_count": 2,
      "outputs": [
        {
          "output_type": "stream",
          "text": [
            "Go to this URL in a browser: https://accounts.google.com/o/oauth2/auth?client_id=947318989803-6bn6qk8qdgf4n4g3pfee6491hc0brc4i.apps.googleusercontent.com&redirect_uri=urn%3Aietf%3Awg%3Aoauth%3A2.0%3Aoob&scope=email%20https%3A%2F%2Fwww.googleapis.com%2Fauth%2Fdocs.test%20https%3A%2F%2Fwww.googleapis.com%2Fauth%2Fdrive%20https%3A%2F%2Fwww.googleapis.com%2Fauth%2Fdrive.photos.readonly%20https%3A%2F%2Fwww.googleapis.com%2Fauth%2Fpeopleapi.readonly&response_type=code\n",
            "\n",
            "Enter your authorization code:\n",
            "··········\n",
            "Mounted at /content/gdrive\n"
          ],
          "name": "stdout"
        }
      ]
    },
    {
      "cell_type": "code",
      "metadata": {
        "id": "pw1paKpIKngt",
        "colab_type": "code",
        "outputId": "036257e4-dc4e-4e35-a846-bcec4d81ddf9",
        "colab": {
          "base_uri": "https://localhost:8080/",
          "height": 86
        }
      },
      "source": [
        "!cd gdrive/My\\ Drive/Colab\\ Notebooks/Composer\n",
        "!git clone https://github.com/MatteoTadiello/ProjectDeepLearning.git\n",
        "!ls gdrive/My\\ Drive/Colab\\ Notebooks/Composer\n",
        "!ls gdrive/My\\ Drive/Colab\\ Notebooks/Composer/ProjectDeepLearning"
      ],
      "execution_count": 6,
      "outputs": [
        {
          "output_type": "stream",
          "text": [
            "/bin/bash: line 0: cd: gdrive/My Drive/Colab Notebooks/Composer: No such file or directory\n",
            "fatal: destination path 'ProjectDeepLearning' already exists and is not an empty directory.\n",
            "ls: cannot access 'gdrive/My Drive/Colab Notebooks/Composer': No such file or directory\n",
            "ls: cannot access 'gdrive/My Drive/Colab Notebooks/Composer/ProjectDeepLearning': No such file or directory\n"
          ],
          "name": "stdout"
        }
      ]
    },
    {
      "cell_type": "code",
      "metadata": {
        "id": "yxNx1fPcNLe2",
        "colab_type": "code",
        "outputId": "afbfb2d7-7745-4e43-a82d-1e094a686315",
        "colab": {
          "base_uri": "https://localhost:8080/",
          "height": 85
        }
      },
      "source": [
        "#This step is not necessary if the train dataset has not changed\n",
        "!python2.7 gdrive/My\\ Drive/Colab\\ Notebooks/Composer/load_songs_drive_verbose.py gdrive/My\\ Drive/Colab\\ Notebooks/Composer/ a"
      ],
      "execution_count": 0,
      "outputs": [
        {
          "output_type": "stream",
          "text": [
            "Loading Songs...\n",
            "Saving 4092 samples...\n",
            "From 186 songs...\n",
            "Done\n"
          ],
          "name": "stdout"
        }
      ]
    },
    {
      "cell_type": "code",
      "metadata": {
        "id": "Qu-6Pw7ZPQfy",
        "colab_type": "code",
        "colab": {}
      },
      "source": [
        "# 2000 Epochs\n",
        "!python2.7 gdrive/My\\ Drive/Colab\\ Notebooks/Composer/train2000e.py gdrive/My\\ Drive/Colab\\ Notebooks/Composer/\n"
      ],
      "execution_count": 0,
      "outputs": []
    },
    {
      "cell_type": "code",
      "metadata": {
        "id": "pFupWCioN73D",
        "colab_type": "code",
        "outputId": "fa2c29b9-0c36-4fd8-8b0b-42bee5b9af4a",
        "colab": {
          "base_uri": "https://localhost:8080/",
          "height": 1057
        }
      },
      "source": [
        "# 1000 Epochs\n",
        "!python2.7 gdrive/My\\ Drive/Colab\\ Notebooks/Composer/train1000e.py gdrive/My\\ Drive/Colab\\ Notebooks/Composer/\n"
      ],
      "execution_count": 0,
      "outputs": [
        {
          "output_type": "stream",
          "text": [
            "Loading Keras...\n",
            "ERROR (theano.gpuarray): pygpu was configured but could not be imported or is too old (version 0.7 or higher required)\n",
            "Traceback (most recent call last):\n",
            "  File \"/usr/local/lib/python2.7/dist-packages/theano/gpuarray/__init__.py\", line 23, in <module>\n",
            "    import pygpu\n",
            "ImportError: No module named pygpu\n",
            "Theano Version: 1.0.4\n",
            "Using Theano backend.\n",
            "Keras Version: 2.2.4\n",
            "Loading Data...\n",
            "Loaded 4092 samples from 186 songs.\n",
            "4092\n",
            "Padding Songs...\n",
            "Building Model...\n",
            "(None, 16, 96, 96)\n",
            "(None, 16, 9216)\n",
            "(None, 16, 2000)\n",
            "(None, 16, 200)\n",
            "(None, 3200)\n",
            "(None, 1600)\n",
            "(None, 120)\n",
            "(None, 1600)\n",
            "(None, 3200)\n",
            "(None, 16, 200)\n",
            "(None, 16, 2000)\n",
            "(None, 16, 9216)\n",
            "(None, 16, 96, 96)\n",
            "Compiling SubModels...\n",
            "WARNING (theano.tensor.blas): We did not find a dynamic library in the library_dir of the library we use for blas. If you use ATLAS, make sure to compile it with dynamics library.\n",
            "Training...\n",
            "Epoch 0\n",
            "Epoch 1/1\n",
            "186/186 [==============================] - 16s 85ms/step - loss: 0.7187\n",
            "Train Loss: 0.7187218070030212\n",
            "Saved\n",
            "Means:  [ 0.34819362 -0.18108934 -0.0134974  -0.33102885 -0.1912593  -0.11817295]\n",
            "Evals:  [1.2725654  0.3820265  0.26487144 0.24440479 0.23460323 0.2168908 ]\n",
            "Epoch 1\n",
            "Epoch 1/1\n",
            "186/186 [==============================] - 16s 84ms/step - loss: 0.1807\n",
            "Train Loss: 0.18069136142730713\n",
            "Epoch 2\n",
            "Epoch 1/1\n",
            "186/186 [==============================] - 15s 82ms/step - loss: 0.0623\n",
            "Train Loss: 0.06229771673679352\n",
            "Epoch 3\n",
            "Epoch 1/1\n",
            "186/186 [==============================] - 15s 83ms/step - loss: 0.0726\n",
            "Train Loss: 0.07260236889123917\n",
            "Epoch 4\n",
            "Epoch 1/1\n",
            "186/186 [==============================] - 15s 83ms/step - loss: 0.0409\n",
            "Train Loss: 0.04092545434832573\n",
            "Epoch 5\n",
            "Epoch 1/1\n",
            "186/186 [==============================] - 15s 83ms/step - loss: 0.0273\n",
            "Train Loss: 0.027309048920869827\n",
            "Epoch 6\n",
            "Epoch 1/1\n",
            "^C\n"
          ],
          "name": "stdout"
        }
      ]
    }
  ]
}