{
 "cells": [
  {
   "cell_type": "markdown",
   "metadata": {
    "colab_type": "text",
    "id": "view-in-github"
   },
   "source": [
    "<a href=\"https://colab.research.google.com/github/MatteoTadiello/ProjectDeepLearning/blob/master/composer_python27.ipynb\" target=\"_parent\"><img src=\"https://colab.research.google.com/assets/colab-badge.svg\" alt=\"Open In Colab\"/></a>"
   ]
  },
  {
   "cell_type": "markdown",
   "metadata": {},
   "source": [
    "# Deep Network Composer\n"
   ]
  },
  {
   "cell_type": "code",
   "execution_count": 1,
   "metadata": {
    "colab": {
     "base_uri": "https://localhost:8080/",
     "height": 123
    },
    "colab_type": "code",
    "id": "HewwFQYhMHcT",
    "outputId": "73eac4c2-2ce2-41a9-f3bb-f29a5c74b4a7"
   },
   "outputs": [],
   "source": [
    "#Connect and mount the drive folder that contains the train dataset and the output folder\n",
    "from google.colab import drive\n",
    "\n",
    "HOMEBASE = \"gdrive/My\\ Drive/Colab\\ Notebooks/Composer\"\n",
    "drive.mount('/content/gdrive')"
   ]
  },
  {
   "cell_type": "code",
   "execution_count": 2,
   "metadata": {
    "colab": {
     "base_uri": "https://localhost:8080/",
     "height": 86
    },
    "colab_type": "code",
    "id": "pw1paKpIKngt",
    "outputId": "036257e4-dc4e-4e35-a846-bcec4d81ddf9"
   },
   "outputs": [],
   "source": [
    "# Clone the composer code into the machine\n",
    "!git clone https://github.com/MatteoTadiello/ProjectDeepLearning.git"
   ]
  },
  {
   "cell_type": "code",
   "execution_count": null,
   "metadata": {},
   "outputs": [],
   "source": [
    "# Alternative, clone from the fix_evaluation branch\n",
    "!git clone --single-branch --branch fix_evaluation https://github.com/MatteoTadiello/ProjectDeepLearning"
   ]
  },
  {
   "cell_type": "markdown",
   "metadata": {},
   "source": [
    "### Load_songs.py\n",
    "This step calls a script that parses the music files(midi) in the specified folder and produces 2 compact npy files that are saved in the same folder.\n",
    "The parameter is the folder where to look for the midis and to save the output files."
   ]
  },
  {
   "cell_type": "code",
   "execution_count": 0,
   "metadata": {
    "colab": {
     "base_uri": "https://localhost:8080/",
     "height": 85
    },
    "colab_type": "code",
    "id": "yxNx1fPcNLe2",
    "outputId": "afbfb2d7-7745-4e43-a82d-1e094a686315",
    "scrolled": true
   },
   "outputs": [],
   "source": [
    "# Preprocess the midi files and produce compact files for the training\n",
    "# !!!-This step is not necessary if the train dataset has not changed-!!!\n",
    "!python2.7 ProjectDeepLearning/composer/load_songs.py gdrive/My\\ Drive/Colab\\ Notebooks/Composer/"
   ]
  },
  {
   "cell_type": "markdown",
   "metadata": {},
   "source": [
    "### Training\n",
    "The script called parses the files produced in the previous steps and trains the autoencoder network."
   ]
  },
  {
   "cell_type": "code",
   "execution_count": 0,
   "metadata": {
    "colab": {
     "base_uri": "https://localhost:8080/",
     "height": 1057
    },
    "colab_type": "code",
    "id": "pFupWCioN73D",
    "outputId": "fa2c29b9-0c36-4fd8-8b0b-42bee5b9af4a"
   },
   "outputs": [],
   "source": [
    "# 1000 Epochs\n",
    "!python2.7 ProjectDeepLearning/composer/train1000e.py gdrive/My\\ Drive/Colab\\ Notebooks/Composer/\n"
   ]
  },
  {
   "cell_type": "markdown",
   "metadata": {},
   "source": [
    "### Generation"
   ]
  },
  {
   "cell_type": "code",
   "execution_count": null,
   "metadata": {},
   "outputs": [],
   "source": [
    "!python2.7 ProjectDeepLearning/composer/generate_random_midi.py gdrive/My\\ Drive/Colab\\ Notebooks/Composer/ 100"
   ]
  }
 ],
 "metadata": {
  "accelerator": "GPU",
  "colab": {
   "collapsed_sections": [],
   "include_colab_link": true,
   "name": "composer_python27.ipynb",
   "provenance": [],
   "toc_visible": true,
   "version": "0.3.2"
  },
  "kernelspec": {
   "display_name": "Python 2",
   "language": "python",
   "name": "python2"
  },
  "language_info": {
   "codemirror_mode": {
    "name": "ipython",
    "version": 2
   },
   "file_extension": ".py",
   "mimetype": "text/x-python",
   "name": "python",
   "nbconvert_exporter": "python",
   "pygments_lexer": "ipython2",
   "version": "2.7.12"
  }
 },
 "nbformat": 4,
 "nbformat_minor": 1
}
