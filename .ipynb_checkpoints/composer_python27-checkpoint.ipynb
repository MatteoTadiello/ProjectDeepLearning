{
 "cells": [
  {
   "cell_type": "markdown",
   "metadata": {
    "colab_type": "text",
    "id": "view-in-github"
   },
   "source": [
    "<a href=\"https://colab.research.google.com/github/MatteoTadiello/ProjectDeepLearning/blob/master/composer_python27.ipynb\" target=\"_parent\"><img src=\"https://colab.research.google.com/assets/colab-badge.svg\" alt=\"Open In Colab\"/></a>"
   ]
  },
  {
   "cell_type": "markdown",
   "metadata": {},
   "source": [
    "# Deep Network Composer\n"
   ]
  },
  {
   "cell_type": "code",
   "execution_count": 1,
   "metadata": {
    "colab": {
     "base_uri": "https://localhost:8080/",
     "height": 123
    },
    "colab_type": "code",
    "id": "HewwFQYhMHcT",
    "outputId": "73eac4c2-2ce2-41a9-f3bb-f29a5c74b4a7"
   },
   "outputs": [
    {
     "ename": "ImportError",
     "evalue": "No module named google.colab",
     "output_type": "error",
     "traceback": [
      "\u001b[0;31m---------------------------------------------------------------------------\u001b[0m",
      "\u001b[0;31mImportError\u001b[0m                               Traceback (most recent call last)",
      "\u001b[0;32m<ipython-input-1-763dd8551d9c>\u001b[0m in \u001b[0;36m<module>\u001b[0;34m()\u001b[0m\n\u001b[0;32m----> 1\u001b[0;31m \u001b[0;32mfrom\u001b[0m \u001b[0mgoogle\u001b[0m\u001b[0;34m.\u001b[0m\u001b[0mcolab\u001b[0m \u001b[0;32mimport\u001b[0m \u001b[0mdrive\u001b[0m\u001b[0;34m\u001b[0m\u001b[0m\n\u001b[0m\u001b[1;32m      2\u001b[0m \u001b[0;34m\u001b[0m\u001b[0m\n\u001b[1;32m      3\u001b[0m \u001b[0mHOMEBASE\u001b[0m \u001b[0;34m=\u001b[0m \u001b[0;34m\"gdrive/My\\ Drive/Colab\\ Notebooks/Composer\"\u001b[0m\u001b[0;34m\u001b[0m\u001b[0m\n\u001b[1;32m      4\u001b[0m \u001b[0mdrive\u001b[0m\u001b[0;34m.\u001b[0m\u001b[0mmount\u001b[0m\u001b[0;34m(\u001b[0m\u001b[0;34m'/content/gdrive'\u001b[0m\u001b[0;34m)\u001b[0m\u001b[0;34m\u001b[0m\u001b[0m\n",
      "\u001b[0;31mImportError\u001b[0m: No module named google.colab"
     ]
    }
   ],
   "source": [
    "#Connect and mount the drive folder that contains the train dataset and the output folder\n",
    "from google.colab import drive\n",
    "\n",
    "HOMEBASE = \"gdrive/My\\ Drive/Colab\\ Notebooks/Composer\"\n",
    "drive.mount('/content/gdrive')"
   ]
  },
  {
   "cell_type": "code",
   "execution_count": 2,
   "metadata": {
    "colab": {
     "base_uri": "https://localhost:8080/",
     "height": 86
    },
    "colab_type": "code",
    "id": "pw1paKpIKngt",
    "outputId": "036257e4-dc4e-4e35-a846-bcec4d81ddf9"
   },
   "outputs": [
    {
     "name": "stdout",
     "output_type": "stream",
     "text": [
      "Cloning into 'ProjectDeepLearning'...\n",
      "remote: Enumerating objects: 31, done.\u001b[K\n",
      "remote: Counting objects: 100% (31/31), done.\u001b[K\n",
      "remote: Compressing objects: 100% (26/26), done.\u001b[K\n",
      "remote: Total 31 (delta 6), reused 18 (delta 3), pack-reused 0\u001b[K\n",
      "Unpacking objects: 100% (31/31), done.\n",
      "Checking connectivity... done.\n",
      "ls: cannot access 'gdrive/My Drive/Colab Notebooks/Composer': No such file or directory\n",
      "ls: cannot access 'gdrive/My Drive/Colab Notebooks/Composer/ProjectDeepLearning': No such file or directory\n"
     ]
    }
   ],
   "source": [
    "# Clone the composer code into the machine\n",
    "!git clone https://github.com/MatteoTadiello/ProjectDeepLearning.git\n",
    "!ls ProjectDeepLearning"
   ]
  },
  {
   "cell_type": "markdown",
   "metadata": {},
   "source": [
    "### Load_songs.py\n",
    "This step calls a script that parses the music files(midi) in the specified folder and produces 2 compact npy files that are saved in the same folder.\n",
    "The parameter is the folder where to look for the midis and to save the output files."
   ]
  },
  {
   "cell_type": "code",
   "execution_count": 0,
   "metadata": {
    "colab": {
     "base_uri": "https://localhost:8080/",
     "height": 85
    },
    "colab_type": "code",
    "id": "yxNx1fPcNLe2",
    "outputId": "afbfb2d7-7745-4e43-a82d-1e094a686315",
    "scrolled": true
   },
   "outputs": [
    {
     "name": "stdout",
     "output_type": "stream",
     "text": [
      "Loading Songs...\n",
      "Saving 4092 samples...\n",
      "From 186 songs...\n",
      "Done\n"
     ]
    }
   ],
   "source": [
    "# Preprocess the midi files and produce compact files for the trainining\n",
    "# !!!-This step is not necessary if the train dataset has not changed-!!!\n",
    "!python2.7 ProjectDeepLearning/load_songs.py gdrive/My\\ Drive/Colab\\ Notebooks/Composer/"
   ]
  },
  {
   "cell_type": "markdown",
   "metadata": {},
   "source": [
    "### Training\n",
    "The script called parses the files produced in the previous steps and trains the autoencoder network."
   ]
  },
  {
   "cell_type": "code",
   "execution_count": 0,
   "metadata": {
    "colab": {
     "base_uri": "https://localhost:8080/",
     "height": 1057
    },
    "colab_type": "code",
    "id": "pFupWCioN73D",
    "outputId": "fa2c29b9-0c36-4fd8-8b0b-42bee5b9af4a"
   },
   "outputs": [
    {
     "name": "stdout",
     "output_type": "stream",
     "text": [
      "Loading Keras...\n",
      "ERROR (theano.gpuarray): pygpu was configured but could not be imported or is too old (version 0.7 or higher required)\n",
      "Traceback (most recent call last):\n",
      "  File \"/usr/local/lib/python2.7/dist-packages/theano/gpuarray/__init__.py\", line 23, in <module>\n",
      "    import pygpu\n",
      "ImportError: No module named pygpu\n",
      "Theano Version: 1.0.4\n",
      "Using Theano backend.\n",
      "Keras Version: 2.2.4\n",
      "Loading Data...\n",
      "Loaded 4092 samples from 186 songs.\n",
      "4092\n",
      "Padding Songs...\n",
      "Building Model...\n",
      "(None, 16, 96, 96)\n",
      "(None, 16, 9216)\n",
      "(None, 16, 2000)\n",
      "(None, 16, 200)\n",
      "(None, 3200)\n",
      "(None, 1600)\n",
      "(None, 120)\n",
      "(None, 1600)\n",
      "(None, 3200)\n",
      "(None, 16, 200)\n",
      "(None, 16, 2000)\n",
      "(None, 16, 9216)\n",
      "(None, 16, 96, 96)\n",
      "Compiling SubModels...\n",
      "WARNING (theano.tensor.blas): We did not find a dynamic library in the library_dir of the library we use for blas. If you use ATLAS, make sure to compile it with dynamics library.\n",
      "Training...\n",
      "Epoch 0\n",
      "Epoch 1/1\n",
      "186/186 [==============================] - 16s 85ms/step - loss: 0.7187\n",
      "Train Loss: 0.7187218070030212\n",
      "Saved\n",
      "Means:  [ 0.34819362 -0.18108934 -0.0134974  -0.33102885 -0.1912593  -0.11817295]\n",
      "Evals:  [1.2725654  0.3820265  0.26487144 0.24440479 0.23460323 0.2168908 ]\n",
      "Epoch 1\n",
      "Epoch 1/1\n",
      "186/186 [==============================] - 16s 84ms/step - loss: 0.1807\n",
      "Train Loss: 0.18069136142730713\n",
      "Epoch 2\n",
      "Epoch 1/1\n",
      "186/186 [==============================] - 15s 82ms/step - loss: 0.0623\n",
      "Train Loss: 0.06229771673679352\n",
      "Epoch 3\n",
      "Epoch 1/1\n",
      "186/186 [==============================] - 15s 83ms/step - loss: 0.0726\n",
      "Train Loss: 0.07260236889123917\n",
      "Epoch 4\n",
      "Epoch 1/1\n",
      "186/186 [==============================] - 15s 83ms/step - loss: 0.0409\n",
      "Train Loss: 0.04092545434832573\n",
      "Epoch 5\n",
      "Epoch 1/1\n",
      "186/186 [==============================] - 15s 83ms/step - loss: 0.0273\n",
      "Train Loss: 0.027309048920869827\n",
      "Epoch 6\n",
      "Epoch 1/1\n",
      "^C\n"
     ]
    }
   ],
   "source": [
    "# 1000 Epochs\n",
    "!python2.7 ProjectDeepLearning/train1000e.py gdrive/My\\ Drive/Colab\\ Notebooks/Composer/\n"
   ]
  }
 ],
 "metadata": {
  "accelerator": "GPU",
  "colab": {
   "collapsed_sections": [],
   "include_colab_link": true,
   "name": "composer_python27.ipynb",
   "provenance": [],
   "toc_visible": true,
   "version": "0.3.2"
  },
  "kernelspec": {
   "display_name": "Python 2",
   "language": "python",
   "name": "python2"
  },
  "language_info": {
   "codemirror_mode": {
    "name": "ipython",
    "version": 2
   },
   "file_extension": ".py",
   "mimetype": "text/x-python",
   "name": "python",
   "nbconvert_exporter": "python",
   "pygments_lexer": "ipython2",
   "version": "2.7.12"
  }
 },
 "nbformat": 4,
 "nbformat_minor": 1
}
